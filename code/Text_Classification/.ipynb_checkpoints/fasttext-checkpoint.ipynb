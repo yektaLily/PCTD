{
 "cells": [
  {
   "cell_type": "code",
   "execution_count": 1,
   "metadata": {
    "_cell_guid": "b1076dfc-b9ad-4769-8c92-a6c4dae69d19",
    "_uuid": "8f2839f25d086af736a60e9eeb907d3b93b6e0e5",
    "execution": {
     "iopub.execute_input": "2022-07-22T09:07:00.766039Z",
     "iopub.status.busy": "2022-07-22T09:07:00.765422Z",
     "iopub.status.idle": "2022-07-22T09:07:00.803056Z",
     "shell.execute_reply": "2022-07-22T09:07:00.802038Z",
     "shell.execute_reply.started": "2022-07-22T09:07:00.765919Z"
    }
   },
   "outputs": [],
   "source": [
    "\n",
    "import numpy as np # linear algebra\n",
    "import pandas as pd # data processing, CSV file I/O (e.g. pd.read_csv)\n",
    "import os\n",
    "for dirname, _, filenames in os.walk('/kaggle/input'):\n",
    "    for filename in filenames:\n",
    "        print(os.path.join(dirname, filename))"
   ]
  },
  {
   "cell_type": "code",
   "execution_count": 12,
   "metadata": {
    "execution": {
     "iopub.execute_input": "2022-07-22T09:25:00.909736Z",
     "iopub.status.busy": "2022-07-22T09:25:00.909399Z",
     "iopub.status.idle": "2022-07-22T09:25:01.086070Z",
     "shell.execute_reply": "2022-07-22T09:25:01.085104Z",
     "shell.execute_reply.started": "2022-07-22T09:25:00.909707Z"
    }
   },
   "outputs": [],
   "source": [
    "import fasttext\n",
    "from sklearn.metrics import classification_report, f1_score, accuracy_score, confusion_matrix,recall_score,precision_score\n",
    "\n",
    "def train():\n",
    "    # model = fasttext.train_supervised(\"train.txt\",autotuneValidationFile='test.txt')\n",
    "    # model = fasttext.train_unsupervised('train.txt', \"cbow\", dim=300, epoch=1, lr=0.1, thread=8)\n",
    "    model = fasttext.train_supervised(\"../input/data-for-fasttext/train_for_fasttext.txt\",\n",
    "                                      autotuneValidationFile='../input/data-for-fasttext/test_for_fasttext.txt', autotuneDuration=300,\n",
    "                                      dim=300,pretrainedVectors='../input/fasttext-wikinews/wiki-news-300d-1M.vec')\n",
    "    model.save_model(\"model_file.bin\")\n",
    "\n",
    "def test(): \n",
    "    classifier = fasttext.load_model(\"model_file.bin\")\n",
    "    result = classifier.test(\"../input/data-for-fasttext/test1.txt\")\n",
    "    print(\"Accuracy:\", result)\n",
    "    test_arr = []\n",
    "    pre_arr = []\n",
    "    with open('../input/data-for-fasttext/test1.txt', encoding='utf-8') as fp:\n",
    "        for line in fp.readlines():\n",
    "            line = line.strip()\n",
    "            if line == '':\n",
    "                continue\n",
    "            pre_arr.append(classifier.predict([line])[0][0][0][:10][-1])\n",
    "            test_arr.append(line[:10][-1])\n",
    "    print(len(test_arr),len(pre_arr))\n",
    "#     print(classification_report(test_arr,pre_arr))\n",
    "    r_arr = test_arr\n",
    "    p_arr = pre_arr\n",
    "    r_arr = [int(i) for i in r_arr]\n",
    "    p_arr = [int(i) for i in p_arr]\n",
    "    print(classification_report(r_arr,p_arr,digits=4))\n",
    "    print('pre',precision_score(r_arr,p_arr))\n",
    "    print('recall',recall_score(r_arr,p_arr))\n",
    "    print('binary:', f1_score(r_arr, p_arr, average='binary'))\n"
   ]
  },
  {
   "cell_type": "code",
   "execution_count": 13,
   "metadata": {
    "execution": {
     "iopub.execute_input": "2022-07-22T09:25:03.987462Z",
     "iopub.status.busy": "2022-07-22T09:25:03.987109Z",
     "iopub.status.idle": "2022-07-22T09:25:05.903909Z",
     "shell.execute_reply": "2022-07-22T09:25:05.902052Z",
     "shell.execute_reply.started": "2022-07-22T09:25:03.987431Z"
    }
   },
   "outputs": [],
   "source": [
    "if __name__ == '__main__':\n",
    "    train()\n",
    "    test()"
   ]
  },
  {
   "cell_type": "code",
   "execution_count": null,
   "metadata": {},
   "outputs": [],
   "source": []
  }
 ],
 "metadata": {
  "kernelspec": {
   "display_name": "Python 3",
   "language": "python",
   "name": "python3"
  },
  "language_info": {
   "codemirror_mode": {
    "name": "ipython",
    "version": 3
   },
   "file_extension": ".py",
   "mimetype": "text/x-python",
   "name": "python",
   "nbconvert_exporter": "python",
   "pygments_lexer": "ipython3",
   "version": "3.7.0"
  }
 },
 "nbformat": 4,
 "nbformat_minor": 4
}
