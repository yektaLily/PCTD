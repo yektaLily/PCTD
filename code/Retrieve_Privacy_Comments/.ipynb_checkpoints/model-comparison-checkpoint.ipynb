{
 "cells": [
  {
   "cell_type": "code",
   "execution_count": null,
   "metadata": {
    "execution": {
     "iopub.execute_input": "2022-04-04T08:40:23.318742Z",
     "iopub.status.busy": "2022-04-04T08:40:23.318113Z",
     "iopub.status.idle": "2022-04-04T08:40:33.104231Z",
     "shell.execute_reply": "2022-04-04T08:40:33.103389Z",
     "shell.execute_reply.started": "2022-04-04T08:40:23.318643Z"
    }
   },
   "outputs": [],
   "source": [
    "pip install xlsxwriter"
   ]
  },
  {
   "cell_type": "code",
   "execution_count": null,
   "metadata": {
    "execution": {
     "iopub.execute_input": "2022-04-04T08:40:33.107972Z",
     "iopub.status.busy": "2022-04-04T08:40:33.107767Z",
     "iopub.status.idle": "2022-04-04T08:40:41.942864Z",
     "shell.execute_reply": "2022-04-04T08:40:41.941926Z",
     "shell.execute_reply.started": "2022-04-04T08:40:33.107948Z"
    }
   },
   "outputs": [],
   "source": [
    "pip install openpyxl"
   ]
  },
  {
   "cell_type": "code",
   "execution_count": null,
   "metadata": {
    "execution": {
     "iopub.execute_input": "2022-04-04T08:40:41.945822Z",
     "iopub.status.busy": "2022-04-04T08:40:41.945317Z",
     "iopub.status.idle": "2022-04-04T08:40:52.540291Z",
     "shell.execute_reply": "2022-04-04T08:40:52.539518Z",
     "shell.execute_reply.started": "2022-04-04T08:40:41.945792Z"
    }
   },
   "outputs": [],
   "source": [
    "pip install -U sentence-transformers\n"
   ]
  },
  {
   "cell_type": "code",
   "execution_count": null,
   "metadata": {
    "execution": {
     "iopub.execute_input": "2022-04-04T08:40:52.542863Z",
     "iopub.status.busy": "2022-04-04T08:40:52.542589Z",
     "iopub.status.idle": "2022-04-04T08:41:00.234319Z",
     "shell.execute_reply": "2022-04-04T08:41:00.233511Z",
     "shell.execute_reply.started": "2022-04-04T08:40:52.542818Z"
    }
   },
   "outputs": [],
   "source": [
    "import sys\n",
    "sys.path.append('../input')\n",
    "from xuexibao.utils.fileUtils import *\n",
    "from sentence_transformers import SentenceTransformer, util\n"
   ]
  },
  {
   "cell_type": "code",
   "execution_count": null,
   "metadata": {
    "execution": {
     "iopub.execute_input": "2022-04-04T08:41:04.426669Z",
     "iopub.status.busy": "2022-04-04T08:41:04.426413Z",
     "iopub.status.idle": "2022-04-04T08:41:04.654983Z",
     "shell.execute_reply": "2022-04-04T08:41:04.654192Z",
     "shell.execute_reply.started": "2022-04-04T08:41:04.426641Z"
    }
   },
   "outputs": [],
   "source": [
    "lines = readExcelToList('./ground_truth-500.xlsx')"
   ]
  },
  {
   "cell_type": "code",
   "execution_count": null,
   "metadata": {
    "execution": {
     "iopub.execute_input": "2022-04-04T08:43:02.561931Z",
     "iopub.status.busy": "2022-04-04T08:43:02.561208Z",
     "iopub.status.idle": "2022-04-04T08:43:02.565945Z",
     "shell.execute_reply": "2022-04-04T08:43:02.565062Z",
     "shell.execute_reply.started": "2022-04-04T08:43:02.561893Z"
    }
   },
   "outputs": [],
   "source": [
    "data = lines[1:501]"
   ]
  },
  {
   "cell_type": "code",
   "execution_count": null,
   "metadata": {
    "execution": {
     "iopub.execute_input": "2022-04-04T08:43:06.71218Z",
     "iopub.status.busy": "2022-04-04T08:43:06.711619Z",
     "iopub.status.idle": "2022-04-04T08:43:06.717958Z",
     "shell.execute_reply": "2022-04-04T08:43:06.717158Z",
     "shell.execute_reply.started": "2022-04-04T08:43:06.712141Z"
    }
   },
   "outputs": [],
   "source": [
    "data[0]"
   ]
  },
  {
   "cell_type": "code",
   "execution_count": null,
   "metadata": {
    "execution": {
     "iopub.execute_input": "2022-03-29T11:23:14.877939Z",
     "iopub.status.busy": "2022-03-29T11:23:14.87757Z",
     "iopub.status.idle": "2022-03-29T11:23:14.886606Z",
     "shell.execute_reply": "2022-03-29T11:23:14.885525Z",
     "shell.execute_reply.started": "2022-03-29T11:23:14.877901Z"
    }
   },
   "outputs": [],
   "source": [
    "lines[0]"
   ]
  },
  {
   "cell_type": "code",
   "execution_count": null,
   "metadata": {
    "execution": {
     "iopub.execute_input": "2022-03-29T11:23:14.889252Z",
     "iopub.status.busy": "2022-03-29T11:23:14.888236Z",
     "iopub.status.idle": "2022-03-29T11:23:14.895933Z",
     "shell.execute_reply": "2022-03-29T11:23:14.895013Z",
     "shell.execute_reply.started": "2022-03-29T11:23:14.889216Z"
    }
   },
   "outputs": [],
   "source": [
    "lines[1]"
   ]
  },
  {
   "cell_type": "code",
   "execution_count": null,
   "metadata": {
    "execution": {
     "iopub.execute_input": "2022-04-04T08:45:53.223791Z",
     "iopub.status.busy": "2022-04-04T08:45:53.223478Z",
     "iopub.status.idle": "2022-04-04T08:45:53.230607Z",
     "shell.execute_reply": "2022-04-04T08:45:53.229911Z",
     "shell.execute_reply.started": "2022-04-04T08:45:53.223758Z"
    }
   },
   "outputs": [],
   "source": [
    "data1 = [i[10] for i in data]\n",
    "data2 = [i[2] for i in data]"
   ]
  },
  {
   "cell_type": "code",
   "execution_count": null,
   "metadata": {
    "execution": {
     "iopub.execute_input": "2022-04-04T08:45:58.539335Z",
     "iopub.status.busy": "2022-04-04T08:45:58.539055Z",
     "iopub.status.idle": "2022-04-04T08:45:58.544859Z",
     "shell.execute_reply": "2022-04-04T08:45:58.543939Z",
     "shell.execute_reply.started": "2022-04-04T08:45:58.539305Z"
    }
   },
   "outputs": [],
   "source": [
    "data1[-1],data2[-1]"
   ]
  },
  {
   "cell_type": "code",
   "execution_count": null,
   "metadata": {
    "execution": {
     "iopub.execute_input": "2022-04-04T08:46:04.891553Z",
     "iopub.status.busy": "2022-04-04T08:46:04.890773Z",
     "iopub.status.idle": "2022-04-04T08:46:04.921797Z",
     "shell.execute_reply": "2022-04-04T08:46:04.921074Z",
     "shell.execute_reply.started": "2022-04-04T08:46:04.891515Z"
    }
   },
   "outputs": [],
   "source": [
    "f1 = readExcelToList('../input/facebook/f1.xlsx')\n",
    "def ty_comment(name):\n",
    "    s_comment = ''\n",
    "    for i,j in f1:\n",
    "        if j == name:\n",
    "            s_comment+=i\n",
    "    return s_comment"
   ]
  },
  {
   "cell_type": "code",
   "execution_count": null,
   "metadata": {
    "execution": {
     "iopub.execute_input": "2022-04-04T08:46:06.100718Z",
     "iopub.status.busy": "2022-04-04T08:46:06.100446Z",
     "iopub.status.idle": "2022-04-04T08:46:06.104692Z",
     "shell.execute_reply": "2022-04-04T08:46:06.103959Z",
     "shell.execute_reply.started": "2022-04-04T08:46:06.10069Z"
    }
   },
   "outputs": [],
   "source": [
    "comment = ty_comment('Disclosure')+ty_comment('Usage')+ty_comment('Collection')+ty_comment('Retention')"
   ]
  },
  {
   "cell_type": "code",
   "execution_count": null,
   "metadata": {
    "execution": {
     "iopub.execute_input": "2022-03-29T11:23:14.990372Z",
     "iopub.status.busy": "2022-03-29T11:23:14.98992Z",
     "iopub.status.idle": "2022-03-29T11:23:14.997538Z",
     "shell.execute_reply": "2022-03-29T11:23:14.996779Z",
     "shell.execute_reply.started": "2022-03-29T11:23:14.99034Z"
    }
   },
   "outputs": [],
   "source": [
    "# sentence-transformers/multi-qa-MiniLM-L6-cos-v1\n",
    "# sentence-transformers/all-MiniLM-L6-v2\n",
    "# sentence-transformers/multi-qa-mpnet-base-dot-v1\n",
    "# sentence-transformers/all-mpnet-base-v2"
   ]
  },
  {
   "cell_type": "code",
   "execution_count": null,
   "metadata": {
    "execution": {
     "iopub.execute_input": "2022-04-04T08:46:16.25251Z",
     "iopub.status.busy": "2022-04-04T08:46:16.251832Z",
     "iopub.status.idle": "2022-04-04T08:46:16.256796Z",
     "shell.execute_reply": "2022-04-04T08:46:16.256021Z",
     "shell.execute_reply.started": "2022-04-04T08:46:16.252461Z"
    }
   },
   "outputs": [],
   "source": [
    "model_name = ['sentence-transformers/multi-qa-MiniLM-L6-cos-v1','sentence-transformers/paraphrase-MiniLM-L6-v2','sentence-transformers/all-MiniLM-L6-v2','sentence-transformers/multi-qa-mpnet-base-dot-v1']"
   ]
  },
  {
   "cell_type": "code",
   "execution_count": null,
   "metadata": {},
   "outputs": [],
   "source": [
    "mkdir z"
   ]
  },
  {
   "cell_type": "code",
   "execution_count": null,
   "metadata": {
    "execution": {
     "iopub.execute_input": "2022-04-04T08:46:39.964143Z",
     "iopub.status.busy": "2022-04-04T08:46:39.963447Z",
     "iopub.status.idle": "2022-04-04T08:46:39.973881Z",
     "shell.execute_reply": "2022-04-04T08:46:39.971954Z",
     "shell.execute_reply.started": "2022-04-04T08:46:39.964105Z"
    }
   },
   "outputs": [],
   "source": [
    "def find_coment(query,docs,path,model,data):\n",
    "    #Encode query and documents\n",
    "    query_emb = model.encode(query)\n",
    "    doc_emb = model.encode(docs)\n",
    "\n",
    "    #Compute dot score between query and all document embeddings\n",
    "    scores = util.pytorch_cos_sim(query_emb, doc_emb).cpu().tolist()\n",
    "    print(len(scores[0]))\n",
    "    #Combine docs & scores\n",
    "    doc_score_pairs = list(zip(docs, scores[0],data))\n",
    "\n",
    "    #Sort by decreasing score\n",
    "    doc_score_pairs = sorted(doc_score_pairs, key=lambda x: x[1], reverse=True)\n",
    "    #print(doc_score_pairs[0])\n",
    "    f = open(path,'w')\n",
    "    f.write('id,socre,doc,result,Precision,,AP\\n')\n",
    "    count = 0\n",
    "    flag = True\n",
    "    for doc, score,data in doc_score_pairs:\n",
    "        count+=1\n",
    "        if flag:\n",
    "            f.write('{},{},\"{}\",{},\"=COUNTIF($D$2:D2,1)/COUNT($D$2:D2)\",\"=IF(D2=1,E2,0)\",\"=SUM($F$2:F2)/COUNTIF($D$2:D2,1)\"\\n'.format(count,score,doc,data))\n",
    "            flag = False\n",
    "        else:\n",
    "            f.write('{},{},\"{}\",{}\\n'.format(count,score,doc,data))"
   ]
  },
  {
   "cell_type": "code",
   "execution_count": null,
   "metadata": {
    "execution": {
     "iopub.execute_input": "2022-04-04T08:46:45.119565Z",
     "iopub.status.busy": "2022-04-04T08:46:45.118811Z",
     "iopub.status.idle": "2022-04-04T08:50:35.915128Z",
     "shell.execute_reply": "2022-04-04T08:50:35.914327Z",
     "shell.execute_reply.started": "2022-04-04T08:46:45.119524Z"
    }
   },
   "outputs": [],
   "source": [
    "for i in model_name:\n",
    "    find_coment(comment,data1,'./z/{}.csv'.format(i.split('/')[-1]),SentenceTransformer(i),data2)"
   ]
  },
  {
   "cell_type": "code",
   "execution_count": null,
   "metadata": {},
   "outputs": [],
   "source": []
  }
 ],
 "metadata": {
  "kernelspec": {
   "display_name": "Python 3",
   "language": "python",
   "name": "python3"
  },
  "language_info": {
   "codemirror_mode": {
    "name": "ipython",
    "version": 3
   },
   "file_extension": ".py",
   "mimetype": "text/x-python",
   "name": "python",
   "nbconvert_exporter": "python",
   "pygments_lexer": "ipython3",
   "version": "3.7.0"
  }
 },
 "nbformat": 4,
 "nbformat_minor": 4
}
